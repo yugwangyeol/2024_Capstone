{
 "cells": [
  {
   "cell_type": "code",
   "execution_count": 2,
   "metadata": {},
   "outputs": [],
   "source": [
    "import pandas as pd"
   ]
  },
  {
   "cell_type": "markdown",
   "metadata": {},
   "source": [
    "## Reading DATA\n",
    "- We used 7 days’s samples as training samples (20170506-20170512), and the last day’s samples as test samples (20170513).\n",
    "    - 근데 까보니까 raw_sample 05-05 부터임 "
   ]
  },
  {
   "cell_type": "code",
   "execution_count": 26,
   "metadata": {},
   "outputs": [],
   "source": [
    "# 유저별 광고 노출 및 클릭 여부 데이터 \n",
    "raw_sample = pd.read_csv('raw_sample.csv')\n",
    "\n",
    "# raw sample 데이터 상에서 노출된 광고들의 광고 정보 \n",
    "ad_feature = pd.read_csv('raw_data/ad_feature.csv')\n",
    "\n",
    "# 유저 정보 \n",
    "user = pd.read_csv('user_profile.csv')\n",
    "\n",
    "# 쇼핑몰 내 행동 데이터 \n",
    "log = pd.read_csv('behavior_log.csv')\n",
    "# This data set covers the shopping behavior in 22 days of all users in raw_sample(totally seven hundred million records "
   ]
  },
  {
   "cell_type": "markdown",
   "metadata": {},
   "source": [
    "#### Checking simple compatibility "
   ]
  },
  {
   "cell_type": "code",
   "execution_count": 3,
   "metadata": {},
   "outputs": [
    {
     "data": {
      "text/plain": [
       "False"
      ]
     },
     "metadata": {},
     "output_type": "display_data"
    },
    {
     "data": {
      "text/plain": [
       "True"
      ]
     },
     "metadata": {},
     "output_type": "display_data"
    }
   ],
   "source": [
    "# checking compatibility \n",
    "display(raw_sample['user'].nunique() == user.shape[0] , raw_sample['adgroup_id'].nunique() == ad_feature.shape[0]) "
   ]
  },
  {
   "cell_type": "code",
   "execution_count": 4,
   "metadata": {},
   "outputs": [
    {
     "data": {
      "text/plain": [
       "1141729"
      ]
     },
     "metadata": {},
     "output_type": "display_data"
    },
    {
     "data": {
      "text/plain": [
       "1061768"
      ]
     },
     "metadata": {},
     "output_type": "display_data"
    }
   ],
   "source": [
    "# user info 반영해서 raw_sample 을 잘라야 함 \n",
    "display(raw_sample['user'].nunique(),user.shape[0])"
   ]
  },
  {
   "cell_type": "markdown",
   "metadata": {},
   "source": [
    "# Preprocessing 1 "
   ]
  },
  {
   "cell_type": "markdown",
   "metadata": {},
   "source": [
    "## Raw_sample Preprocessing\n",
    "- nonclk 삭제 \n",
    "- timestamp 변환"
   ]
  },
  {
   "cell_type": "code",
   "execution_count": 5,
   "metadata": {},
   "outputs": [
    {
     "data": {
      "text/plain": [
       "Index(['user', 'time_stamp', 'adgroup_id', 'pid', 'nonclk', 'clk'], dtype='object')"
      ]
     },
     "execution_count": 5,
     "metadata": {},
     "output_type": "execute_result"
    }
   ],
   "source": [
    "raw_sample.columns"
   ]
  },
  {
   "cell_type": "markdown",
   "metadata": {},
   "source": [
    "- nonclk drop"
   ]
  },
  {
   "cell_type": "code",
   "execution_count": 6,
   "metadata": {},
   "outputs": [],
   "source": [
    "#오류체크 \n",
    "#sum(sum([raw_sample['nonclk'] + raw_sample['clk'] == 1]))\n",
    "\n",
    "raw_sample = raw_sample.drop(['nonclk'],axis=1)"
   ]
  },
  {
   "cell_type": "markdown",
   "metadata": {},
   "source": [
    "- time_stamp "
   ]
  },
  {
   "cell_type": "code",
   "execution_count": 7,
   "metadata": {},
   "outputs": [],
   "source": [
    "#  UNIX 시간 \n",
    "# 1970년 1월 1일부터 몇초가 흘렀는지로 체크\n",
    "# datetime 으로 변경  \n",
    "\n",
    "raw_sample['time_stamp'] = pd.to_datetime(raw_sample['time_stamp'], unit='s')"
   ]
  },
  {
   "cell_type": "code",
   "execution_count": null,
   "metadata": {},
   "outputs": [],
   "source": [
    "# user 별 time stamp sorting \n",
    "\n",
    "raw_sample = raw_sample.sort_values(by=['user', 'time_stamp'])"
   ]
  },
  {
   "cell_type": "markdown",
   "metadata": {},
   "source": [
    "#### raw_sample preprocessing 완료"
   ]
  },
  {
   "cell_type": "code",
   "execution_count": 119,
   "metadata": {},
   "outputs": [],
   "source": [
    "raw_sample.to_csv('raw_ppd_0508.csv')"
   ]
  },
  {
   "cell_type": "markdown",
   "metadata": {},
   "source": [
    "## ad_feature\n",
    "- customer ID 삭제"
   ]
  },
  {
   "cell_type": "code",
   "execution_count": 25,
   "metadata": {},
   "outputs": [],
   "source": [
    "ad_feature = ad_feature.drop(['customer'],axis = 1)"
   ]
  },
  {
   "cell_type": "markdown",
   "metadata": {},
   "source": [
    "* 결측치 존재 "
   ]
  },
  {
   "cell_type": "code",
   "execution_count": 70,
   "metadata": {},
   "outputs": [
    {
     "data": {
      "text/plain": [
       "adgroup_id          0\n",
       "cate_id             0\n",
       "campaign_id         0\n",
       "customer            0\n",
       "brand          246330\n",
       "price               0\n",
       "dtype: int64"
      ]
     },
     "execution_count": 70,
     "metadata": {},
     "output_type": "execute_result"
    }
   ],
   "source": [
    "ad_feature.isnull().sum()"
   ]
  },
  {
   "cell_type": "markdown",
   "metadata": {},
   "source": [
    "## User_profile\n",
    "- 분류그룹 획일화 \n",
    "- `final_gender_code` → 이름을 gender로 변경\n",
    "- `occupation`\n",
    "- `new_user_class_level`\n",
    "- `p_value_level`"
   ]
  },
  {
   "cell_type": "markdown",
   "metadata": {},
   "source": [
    "- 분류그룹 획일화"
   ]
  },
  {
   "cell_type": "code",
   "execution_count": 82,
   "metadata": {},
   "outputs": [
    {
     "name": "stdout",
     "output_type": "stream",
     "text": [
      "소분류 그룹 개수: 97\n",
      "대분류 그룹 개수: 13\n"
     ]
    }
   ],
   "source": [
    "# 데이터셋 설명 봐도 나눈 기준이 모호 \n",
    "# 사후 분석의 용이성 , 모델 성능 (GRL) 향상의 측면에서 대분류만 남김 \n",
    "print('소분류 그룹 개수:',user['cms_segid'].nunique()) \n",
    "print('대분류 그룹 개수:',user['cms_group_id'].nunique()) "
   ]
  },
  {
   "cell_type": "code",
   "execution_count": 83,
   "metadata": {},
   "outputs": [],
   "source": [
    "user = user.drop(['cms_segid'],axis=1)"
   ]
  },
  {
   "cell_type": "markdown",
   "metadata": {},
   "source": [
    "- final_gender_code column 이름 변경 \n",
    "- 대학생 여부 : occupation column drop (94% 가 '0' - sparse)\n",
    "- 거주 지역 : new_user_class_level drop (Nan값 너무 많음 30% 이상)"
   ]
  },
  {
   "cell_type": "code",
   "execution_count": 86,
   "metadata": {},
   "outputs": [],
   "source": [
    "user.rename(columns = {'final_gender_code' : 'gender'}, inplace = True)"
   ]
  },
  {
   "cell_type": "code",
   "execution_count": 103,
   "metadata": {},
   "outputs": [],
   "source": [
    "user = user.drop(['occupation','new_user_class_level '],axis=1)"
   ]
  },
  {
   "cell_type": "markdown",
   "metadata": {},
   "source": [
    "- pvalue_level 은 중요한 값임 , Nan 값이 50% 이상이라도 drop 하기는 아쉬운 column \n",
    "    - 측정이 안되어있다는 건 그만큼 구매가 적어서 Consumption grade 를 책정하지 못한 것으로 판단, grade 를 0 으로 설정 "
   ]
  },
  {
   "cell_type": "code",
   "execution_count": 105,
   "metadata": {},
   "outputs": [
    {
     "data": {
      "text/plain": [
       "NaN    0.542413\n",
       "2.0    0.276573\n",
       "1.0    0.145452\n",
       "3.0    0.035562\n",
       "Name: pvalue_level, dtype: float64"
      ]
     },
     "execution_count": 105,
     "metadata": {},
     "output_type": "execute_result"
    }
   ],
   "source": [
    "user['pvalue_level'].value_counts(dropna=False,normalize=True)"
   ]
  },
  {
   "cell_type": "code",
   "execution_count": 106,
   "metadata": {},
   "outputs": [],
   "source": [
    "user['pvalue_level'].fillna(0,inplace=True)"
   ]
  },
  {
   "cell_type": "markdown",
   "metadata": {},
   "source": [
    "### User preprocessing 완료 "
   ]
  },
  {
   "cell_type": "code",
   "execution_count": 26,
   "metadata": {},
   "outputs": [
    {
     "data": {
      "text/plain": [
       "Index(['Unnamed: 0', 'userid', 'cms_group_id', 'gender', 'age_level',\n",
       "       'pvalue_level', 'shopping_level'],\n",
       "      dtype='object')"
      ]
     },
     "execution_count": 26,
     "metadata": {},
     "output_type": "execute_result"
    }
   ],
   "source": [
    "user.columns"
   ]
  },
  {
   "cell_type": "code",
   "execution_count": 107,
   "metadata": {},
   "outputs": [],
   "source": [
    "user.to_csv('user_ppd_0508.csv')"
   ]
  },
  {
   "cell_type": "markdown",
   "metadata": {},
   "source": [
    "## behavior_log"
   ]
  },
  {
   "cell_type": "markdown",
   "metadata": {},
   "source": [
    "- raw_sample 과 log 의 user 1:1 매칭 확인 - no \n",
    "- 왜냐하면, raw_sample 의 seq가 항상 conversion 으로 끝나지 않기 때문 \n",
    "- behavior_log 는 쇼핑몰 내 행동 데이터로 click 이후의 내용"
   ]
  },
  {
   "cell_type": "code",
   "execution_count": 113,
   "metadata": {},
   "outputs": [
    {
     "data": {
      "text/plain": [
       "False"
      ]
     },
     "execution_count": 113,
     "metadata": {},
     "output_type": "execute_result"
    }
   ],
   "source": [
    "log.user.nunique() == raw_sample.user.nunique()"
   ]
  },
  {
   "cell_type": "code",
   "execution_count": 114,
   "metadata": {},
   "outputs": [
    {
     "data": {
      "text/plain": [
       "1141729"
      ]
     },
     "metadata": {},
     "output_type": "display_data"
    },
    {
     "data": {
      "text/plain": [
       "1136340"
      ]
     },
     "metadata": {},
     "output_type": "display_data"
    }
   ],
   "source": [
    "display(raw_sample.user.nunique(),log.user.nunique())"
   ]
  },
  {
   "cell_type": "markdown",
   "metadata": {},
   "source": [
    "- time_stamp "
   ]
  },
  {
   "cell_type": "code",
   "execution_count": 5,
   "metadata": {},
   "outputs": [],
   "source": [
    "log['time_stamp'] = pd.to_datetime(log['time_stamp'], unit='s') "
   ]
  },
  {
   "cell_type": "code",
   "execution_count": 27,
   "metadata": {},
   "outputs": [],
   "source": [
    "#Kernel stopped \n",
    "#log = log.sort_values(by=['user', 'time_stamp'])"
   ]
  },
  {
   "cell_type": "markdown",
   "metadata": {},
   "source": [
    "# preprocessing 2 "
   ]
  },
  {
   "cell_type": "markdown",
   "metadata": {},
   "source": [
    "- user_profile에 없는 userid의 raw_sample 데이터 지울 것\n",
    "- behavior_log 제외할 것 (현재는 우리 모델에 필요 X)\n",
    "    - behavior_log의 **btag=buy**만 가지고 와서 사용 (adpk의 purchase 취급)\n",
    "- 총 8일치 데이터 → 7일은 train, 마지막 1일을 test\n",
    "- 광고 노출 등의 대해서 이상하게 값이 많은 사람 삭제하기"
   ]
  },
  {
   "cell_type": "markdown",
   "metadata": {},
   "source": [
    "#### user_profile에 없는 userid의 raw_sample 데이터 지우기"
   ]
  },
  {
   "cell_type": "code",
   "execution_count": 4,
   "metadata": {},
   "outputs": [],
   "source": [
    "# reading preprocessed CSVs \n",
    "user = pd.read_csv('preprocessing/user_ppd_0508.csv')\n",
    "raw_sample = pd.read_csv('preprocessing/raw_ppd_0508.csv')"
   ]
  },
  {
   "cell_type": "code",
   "execution_count": 5,
   "metadata": {},
   "outputs": [],
   "source": [
    "valid_userids = user['userid'].tolist()\n",
    "\n",
    "raw_sample_filtered = raw_sample[raw_sample['user'].isin(valid_userids)]"
   ]
  },
  {
   "cell_type": "code",
   "execution_count": 6,
   "metadata": {},
   "outputs": [
    {
     "name": "stdout",
     "output_type": "stream",
     "text": [
      "데이터 수 :  26557961 --> 25029435\n"
     ]
    }
   ],
   "source": [
    "print('데이터 수 : ',raw_sample.shape[0], '-->' ,raw_sample_filtered.shape[0])"
   ]
  },
  {
   "cell_type": "markdown",
   "metadata": {},
   "source": [
    "#### behavior_log의 **btag=buy**만 가지고 와서 사용 (adpk의 purchase 취급)"
   ]
  },
  {
   "cell_type": "code",
   "execution_count": null,
   "metadata": {},
   "outputs": [],
   "source": [
    "# reading preprocessed CSV \n",
    "#log = pd.read_csv('raw_data/behavior_log.csv')"
   ]
  },
  {
   "cell_type": "code",
   "execution_count": 12,
   "metadata": {},
   "outputs": [
    {
     "data": {
      "text/plain": [
       "array(['buy'], dtype=object)"
      ]
     },
     "execution_count": 12,
     "metadata": {},
     "output_type": "execute_result"
    }
   ],
   "source": [
    "# log btag types \n",
    "log.btag.unique()"
   ]
  },
  {
   "cell_type": "code",
   "execution_count": 13,
   "metadata": {},
   "outputs": [],
   "source": [
    "# filtering Purchases \n",
    "purchase_log = log[log.btag == 'buy']"
   ]
  },
  {
   "cell_type": "code",
   "execution_count": 15,
   "metadata": {},
   "outputs": [],
   "source": [
    "# user 별 시간대 정렬 및 datetime 변환 \n",
    "purchase_log = purchase_log.sort_values(by=['user', 'time_stamp'])\n",
    "purchase_log['time_stamp'] = pd.to_datetime(purchase_log['time_stamp'], unit='s')  "
   ]
  },
  {
   "cell_type": "code",
   "execution_count": 20,
   "metadata": {},
   "outputs": [
    {
     "data": {
      "text/plain": [
       "5314954     2017-05-05 16:00:00\n",
       "5314947     2017-05-05 16:00:00\n",
       "5314948     2017-05-05 16:00:00\n",
       "5314949     2017-05-05 16:00:00\n",
       "5314950     2017-05-05 16:00:00\n",
       "                   ...         \n",
       "11475487    2017-05-13 15:59:44\n",
       "420843      2017-05-13 15:59:44\n",
       "420844      2017-05-13 15:59:44\n",
       "5704516     2017-05-13 15:59:46\n",
       "4127426     2017-05-13 15:59:46\n",
       "Name: time_stamp, Length: 25029435, dtype: object"
      ]
     },
     "execution_count": 20,
     "metadata": {},
     "output_type": "execute_result"
    }
   ],
   "source": [
    "# 5월 5일 부터의 노출 데이터 \n",
    "raw_sample_filtered['time_stamp'].sort_values()"
   ]
  },
  {
   "cell_type": "code",
   "execution_count": 18,
   "metadata": {},
   "outputs": [
    {
     "data": {
      "text/plain": [
       "61224177    2017-04-24 15:00:20\n",
       "531106542   2017-04-24 15:07:46\n",
       "591186701   2017-04-27 02:40:06\n",
       "102600864   2017-04-27 02:44:32\n",
       "580113767   2017-04-27 02:52:05\n",
       "                    ...        \n",
       "16013059    2017-05-01 13:05:17\n",
       "48139297    2017-05-01 13:06:38\n",
       "270329726   2017-05-09 15:31:07\n",
       "270329725   2017-05-09 15:32:38\n",
       "27144852    2017-05-12 13:09:17\n",
       "Name: time_stamp, Length: 9115919, dtype: datetime64[ns]"
      ]
     },
     "execution_count": 18,
     "metadata": {},
     "output_type": "execute_result"
    }
   ],
   "source": [
    "# 4월 24일 부터의 구매 데이터 \n",
    "purchase_log['time_stamp']"
   ]
  },
  {
   "cell_type": "code",
   "execution_count": 27,
   "metadata": {},
   "outputs": [
    {
     "data": {
      "text/plain": [
       "'2017-05-05 16:00:00'"
      ]
     },
     "execution_count": 27,
     "metadata": {},
     "output_type": "execute_result"
    }
   ],
   "source": [
    "raw_sample_filtered.time_stamp.min()"
   ]
  },
  {
   "cell_type": "code",
   "execution_count": 28,
   "metadata": {},
   "outputs": [],
   "source": [
    "# purchase_log filtering \n",
    "# 광고 노출 데이터의 시간으로 purchase log 필터링 \n",
    "given_time = pd.to_datetime(raw_sample_filtered.time_stamp.min())\n",
    "\n",
    "purchase_log = purchase_log[purchase_log['time_stamp'] >= given_time ]"
   ]
  },
  {
   "cell_type": "code",
   "execution_count": 31,
   "metadata": {},
   "outputs": [],
   "source": [
    "# # purchase log saving \n",
    "# purchase_log.to_csv('purchase_log_0508.csv')"
   ]
  },
  {
   "cell_type": "markdown",
   "metadata": {},
   "source": [
    "### Removing Outliers\n",
    "- 구매여정 길이가 너무 길거나 너무 짧으면 제거 \n",
    "    - IQR method 사용 "
   ]
  },
  {
   "cell_type": "code",
   "execution_count": 14,
   "metadata": {},
   "outputs": [],
   "source": [
    "seq = raw_sample_filtered.groupby('user')['user'].agg(seq_len = 'count').reset_index()"
   ]
  },
  {
   "cell_type": "code",
   "execution_count": 33,
   "metadata": {},
   "outputs": [
    {
     "data": {
      "text/plain": [
       "count   1061768.00\n",
       "mean         23.57\n",
       "std          65.81\n",
       "min           1.00\n",
       "25%           3.00\n",
       "50%           7.00\n",
       "75%          21.00\n",
       "max        3756.00\n",
       "Name: seq_len, dtype: float64"
      ]
     },
     "execution_count": 33,
     "metadata": {},
     "output_type": "execute_result"
    }
   ],
   "source": [
    "pd.options.display.float_format = '{:.2f}'.format\n",
    "seq['seq_len'].describe()"
   ]
  },
  {
   "cell_type": "code",
   "execution_count": 16,
   "metadata": {},
   "outputs": [],
   "source": [
    "def IQR(x):\n",
    "    Q1 = x.quantile(0.25)\n",
    "    Q3 = x.quantile(0.75)\n",
    "    IQR = Q3 - Q1\n",
    "    lower_bound = Q1 - 1.5 * IQR\n",
    "    upper_bound = Q3 + 1.5 * IQR\n",
    "    return seq[(x >= lower_bound) & (x <= upper_bound)] #hard coding\n",
    "\n",
    "seq = IQR(seq['seq_len'])\n"
   ]
  },
  {
   "cell_type": "code",
   "execution_count": 17,
   "metadata": {},
   "outputs": [],
   "source": [
    "valid_userids = seq['user'].tolist()\n",
    "\n",
    "exposed = raw_sample_filtered[raw_sample_filtered['user'].isin(valid_userids)].drop(['Unnamed: 0'],axis = 1)"
   ]
  },
  {
   "cell_type": "code",
   "execution_count": 23,
   "metadata": {},
   "outputs": [],
   "source": [
    "exposed = pd.merge(exposed,seq)"
   ]
  },
  {
   "cell_type": "markdown",
   "metadata": {},
   "source": [
    "#### ads feature 붙이기 \n",
    "- Exposed 된 ad 에 해당하는 ad feature 를 exposed df 에 붙이기 "
   ]
  },
  {
   "cell_type": "code",
   "execution_count": 27,
   "metadata": {},
   "outputs": [
    {
     "data": {
      "text/plain": [
       "adgroup_id          0\n",
       "cate_id             0\n",
       "campaign_id         0\n",
       "customer            0\n",
       "brand          246330\n",
       "price               0\n",
       "dtype: int64"
      ]
     },
     "execution_count": 27,
     "metadata": {},
     "output_type": "execute_result"
    }
   ],
   "source": [
    "ad_feature.isnull().sum()"
   ]
  },
  {
   "cell_type": "code",
   "execution_count": 28,
   "metadata": {},
   "outputs": [],
   "source": [
    "exposed_feat = pd.merge(exposed, ad_feature, on='adgroup_id', how='left')"
   ]
  },
  {
   "cell_type": "code",
   "execution_count": 30,
   "metadata": {},
   "outputs": [],
   "source": [
    "exposed_feat.to_csv('preprocessing/exposed_log_0517.csv')"
   ]
  },
  {
   "cell_type": "markdown",
   "metadata": {},
   "source": [
    "#### 구매여정 정의 \n",
    "- 8일 내에 구매를 한 유저는 구매를 기준으로 자름\n",
    "- 구매하지 않은 경우에는 세션 분리 없이 user에게 노출된 모든 sequence를 통째로 모델에 입력으로 넣도록 전처리"
   ]
  },
  {
   "cell_type": "code",
   "execution_count": 1,
   "metadata": {},
   "outputs": [
    {
     "ename": "NameError",
     "evalue": "name 'exposed' is not defined",
     "output_type": "error",
     "traceback": [
      "\u001b[0;31m---------------------------------------------------------------------------\u001b[0m",
      "\u001b[0;31mNameError\u001b[0m                                 Traceback (most recent call last)",
      "Cell \u001b[0;32mIn[1], line 3\u001b[0m\n\u001b[1;32m      1\u001b[0m \u001b[38;5;66;03m# target DFs \u001b[39;00m\n\u001b[0;32m----> 3\u001b[0m display(\u001b[43mexposed\u001b[49m\u001b[38;5;241m.\u001b[39mhead(),\u001b[38;5;124m'\u001b[39m\u001b[38;5;124m---------\u001b[39m\u001b[38;5;124m'\u001b[39m,purchase_log\u001b[38;5;241m.\u001b[39mhead())\n",
      "\u001b[0;31mNameError\u001b[0m: name 'exposed' is not defined"
     ]
    }
   ],
   "source": [
    "# # target DFs \n",
    "\n",
    "# display(exposed.head(),'---------',purchase_log.head())"
   ]
  },
  {
   "cell_type": "code",
   "execution_count": null,
   "metadata": {},
   "outputs": [],
   "source": [
    "# 하나의 exposed seq 에 여러 구매가 할당되어 있는 경우~ \n"
   ]
  },
  {
   "cell_type": "code",
   "execution_count": 31,
   "metadata": {},
   "outputs": [
    {
     "data": {
      "text/html": [
       "<div>\n",
       "<style scoped>\n",
       "    .dataframe tbody tr th:only-of-type {\n",
       "        vertical-align: middle;\n",
       "    }\n",
       "\n",
       "    .dataframe tbody tr th {\n",
       "        vertical-align: top;\n",
       "    }\n",
       "\n",
       "    .dataframe thead th {\n",
       "        text-align: right;\n",
       "    }\n",
       "</style>\n",
       "<table border=\"1\" class=\"dataframe\">\n",
       "  <thead>\n",
       "    <tr style=\"text-align: right;\">\n",
       "      <th></th>\n",
       "      <th>Unnamed: 0</th>\n",
       "      <th>userid</th>\n",
       "      <th>cms_group_id</th>\n",
       "      <th>gender</th>\n",
       "      <th>age_level</th>\n",
       "      <th>pvalue_level</th>\n",
       "      <th>shopping_level</th>\n",
       "    </tr>\n",
       "  </thead>\n",
       "  <tbody>\n",
       "    <tr>\n",
       "      <th>0</th>\n",
       "      <td>0</td>\n",
       "      <td>234</td>\n",
       "      <td>5</td>\n",
       "      <td>2</td>\n",
       "      <td>5</td>\n",
       "      <td>0.0</td>\n",
       "      <td>3</td>\n",
       "    </tr>\n",
       "    <tr>\n",
       "      <th>1</th>\n",
       "      <td>1</td>\n",
       "      <td>523</td>\n",
       "      <td>2</td>\n",
       "      <td>2</td>\n",
       "      <td>2</td>\n",
       "      <td>1.0</td>\n",
       "      <td>3</td>\n",
       "    </tr>\n",
       "    <tr>\n",
       "      <th>2</th>\n",
       "      <td>2</td>\n",
       "      <td>612</td>\n",
       "      <td>8</td>\n",
       "      <td>1</td>\n",
       "      <td>2</td>\n",
       "      <td>2.0</td>\n",
       "      <td>3</td>\n",
       "    </tr>\n",
       "    <tr>\n",
       "      <th>3</th>\n",
       "      <td>3</td>\n",
       "      <td>1670</td>\n",
       "      <td>4</td>\n",
       "      <td>2</td>\n",
       "      <td>4</td>\n",
       "      <td>0.0</td>\n",
       "      <td>1</td>\n",
       "    </tr>\n",
       "    <tr>\n",
       "      <th>4</th>\n",
       "      <td>4</td>\n",
       "      <td>2545</td>\n",
       "      <td>10</td>\n",
       "      <td>1</td>\n",
       "      <td>4</td>\n",
       "      <td>0.0</td>\n",
       "      <td>3</td>\n",
       "    </tr>\n",
       "    <tr>\n",
       "      <th>...</th>\n",
       "      <td>...</td>\n",
       "      <td>...</td>\n",
       "      <td>...</td>\n",
       "      <td>...</td>\n",
       "      <td>...</td>\n",
       "      <td>...</td>\n",
       "      <td>...</td>\n",
       "    </tr>\n",
       "    <tr>\n",
       "      <th>1061763</th>\n",
       "      <td>1061763</td>\n",
       "      <td>1137955</td>\n",
       "      <td>3</td>\n",
       "      <td>2</td>\n",
       "      <td>3</td>\n",
       "      <td>0.0</td>\n",
       "      <td>3</td>\n",
       "    </tr>\n",
       "    <tr>\n",
       "      <th>1061764</th>\n",
       "      <td>1061764</td>\n",
       "      <td>1138545</td>\n",
       "      <td>4</td>\n",
       "      <td>2</td>\n",
       "      <td>4</td>\n",
       "      <td>0.0</td>\n",
       "      <td>3</td>\n",
       "    </tr>\n",
       "    <tr>\n",
       "      <th>1061765</th>\n",
       "      <td>1061765</td>\n",
       "      <td>1138902</td>\n",
       "      <td>9</td>\n",
       "      <td>1</td>\n",
       "      <td>3</td>\n",
       "      <td>2.0</td>\n",
       "      <td>3</td>\n",
       "    </tr>\n",
       "    <tr>\n",
       "      <th>1061766</th>\n",
       "      <td>1061766</td>\n",
       "      <td>1139632</td>\n",
       "      <td>7</td>\n",
       "      <td>1</td>\n",
       "      <td>1</td>\n",
       "      <td>0.0</td>\n",
       "      <td>1</td>\n",
       "    </tr>\n",
       "    <tr>\n",
       "      <th>1061767</th>\n",
       "      <td>1061767</td>\n",
       "      <td>1139870</td>\n",
       "      <td>2</td>\n",
       "      <td>2</td>\n",
       "      <td>2</td>\n",
       "      <td>2.0</td>\n",
       "      <td>3</td>\n",
       "    </tr>\n",
       "  </tbody>\n",
       "</table>\n",
       "<p>1061768 rows × 7 columns</p>\n",
       "</div>"
      ],
      "text/plain": [
       "         Unnamed: 0   userid  cms_group_id  gender  age_level  pvalue_level  \\\n",
       "0                 0      234             5       2          5           0.0   \n",
       "1                 1      523             2       2          2           1.0   \n",
       "2                 2      612             8       1          2           2.0   \n",
       "3                 3     1670             4       2          4           0.0   \n",
       "4                 4     2545            10       1          4           0.0   \n",
       "...             ...      ...           ...     ...        ...           ...   \n",
       "1061763     1061763  1137955             3       2          3           0.0   \n",
       "1061764     1061764  1138545             4       2          4           0.0   \n",
       "1061765     1061765  1138902             9       1          3           2.0   \n",
       "1061766     1061766  1139632             7       1          1           0.0   \n",
       "1061767     1061767  1139870             2       2          2           2.0   \n",
       "\n",
       "         shopping_level  \n",
       "0                     3  \n",
       "1                     3  \n",
       "2                     3  \n",
       "3                     1  \n",
       "4                     3  \n",
       "...                 ...  \n",
       "1061763               3  \n",
       "1061764               3  \n",
       "1061765               3  \n",
       "1061766               1  \n",
       "1061767               3  \n",
       "\n",
       "[1061768 rows x 7 columns]"
      ]
     },
     "execution_count": 31,
     "metadata": {},
     "output_type": "execute_result"
    }
   ],
   "source": [
    "user"
   ]
  },
  {
   "cell_type": "code",
   "execution_count": null,
   "metadata": {},
   "outputs": [],
   "source": []
  }
 ],
 "metadata": {
  "kernelspec": {
   "display_name": "base",
   "language": "python",
   "name": "python3"
  },
  "language_info": {
   "codemirror_mode": {
    "name": "ipython",
    "version": 3
   },
   "file_extension": ".py",
   "mimetype": "text/x-python",
   "name": "python",
   "nbconvert_exporter": "python",
   "pygments_lexer": "ipython3",
   "version": "3.10.9"
  }
 },
 "nbformat": 4,
 "nbformat_minor": 2
}
